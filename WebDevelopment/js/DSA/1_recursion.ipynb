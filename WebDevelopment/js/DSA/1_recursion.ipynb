{
 "cells": [
  {
   "attachments": {},
   "cell_type": "markdown",
   "metadata": {},
   "source": [
    "# **Recursion** \n",
    "\n",
    "* Using recursion in the **divide and conquer** method can minimize the size of your problem at each step and take less time than a naive iterative approach.\n",
    "\n",
    "Steps:\n",
    "1. Base case/Terminating condition (eg. if n == 0: return 1)\n",
    "2. Recurion call (eg. factorial(n-1))\n",
    "3. Calculation (eg. n * factorial(n-1))"
   ]
  },
  {
   "cell_type": "markdown",
   "metadata": {},
   "source": [
    "#### Factorial for given number"
   ]
  },
  {
   "cell_type": "code",
   "execution_count": 1,
   "metadata": {},
   "outputs": [
    {
     "data": {
      "text/plain": [
       "6"
      ]
     },
     "execution_count": 1,
     "metadata": {},
     "output_type": "execute_result"
    }
   ],
   "source": [
    "\n",
    "def factorial(n):\n",
    "    if n == 0:\n",
    "        return 1\n",
    "    else:\n",
    "        return n*factorial(n-1)\n",
    "    \n",
    "    \n",
    "factorial(3)"
   ]
  },
  {
   "cell_type": "markdown",
   "metadata": {},
   "source": [
    "#### Recursion on string"
   ]
  },
  {
   "cell_type": "code",
   "execution_count": 10,
   "metadata": {},
   "outputs": [
    {
     "data": {
      "text/plain": [
       "'bxbxxb'"
      ]
     },
     "execution_count": 10,
     "metadata": {},
     "output_type": "execute_result"
    }
   ],
   "source": [
    "\n",
    "def replaceChar(s, char1, char2):\n",
    "    if len(s) == 0:\n",
    "        return s\n",
    "    \n",
    "    r = replaceChar(s[1:], char1, char2)\n",
    "\n",
    "    if s[0] == char1:\n",
    "        return char2+r\n",
    "    else:\n",
    "        return s[0]+r\n",
    "\n",
    "    \n",
    "replaceChar(\"axaxxa\", 'a', 'b')"
   ]
  },
  {
   "cell_type": "markdown",
   "metadata": {},
   "source": [
    "#### Binary Search using Recursion"
   ]
  },
  {
   "cell_type": "code",
   "execution_count": 11,
   "metadata": {},
   "outputs": [
    {
     "data": {
      "text/plain": [
       "6"
      ]
     },
     "execution_count": 11,
     "metadata": {},
     "output_type": "execute_result"
    }
   ],
   "source": [
    "\n",
    "def binarySearch(array, x, si, ei):\n",
    "    if si > ei:\n",
    "        return -1\n",
    "    mid = (si+ei)//2\n",
    "    if array[mid] == x:\n",
    "        return mid\n",
    "    elif array[mid] > x:\n",
    "        return binarySearch(array, x , si , mid-1)\n",
    "    else:\n",
    "        return binarySearch(array, x , mid+1, ei)\n",
    "\n",
    "array = [0, 1, 2, 3, 4, 5, 6, 7, 8]\n",
    "binarySearch(array, 6, 0, 7)"
   ]
  },
  {
   "cell_type": "markdown",
   "metadata": {},
   "source": [
    "#### Recursion to replace \"pi\" to \"3.14\" from the string"
   ]
  },
  {
   "cell_type": "code",
   "execution_count": 6,
   "metadata": {},
   "outputs": [
    {
     "data": {
      "text/plain": [
       "'ab3.14cd3.14ef'"
      ]
     },
     "execution_count": 6,
     "metadata": {},
     "output_type": "execute_result"
    }
   ],
   "source": [
    "\n",
    "def replacePi(s):\n",
    "    if len(s) == 0 or len(s) == 1:\n",
    "        return s\n",
    "    if s[0].lower() == 'p' and s[1].lower() == 'i':\n",
    "        r = replacePi(s[2:])\n",
    "        return \"3.14\"+ r\n",
    "    else:\n",
    "        r = replacePi(s[1:])\n",
    "        return s[0] + r\n",
    "    \n",
    "    \n",
    "replacePi(\"abPicdpief\")"
   ]
  },
  {
   "cell_type": "markdown",
   "metadata": {},
   "source": [
    "#### Remove Duplicates Recursively"
   ]
  },
  {
   "cell_type": "code",
   "execution_count": 24,
   "metadata": {},
   "outputs": [
    {
     "data": {
      "text/plain": [
       "'xyyyzwwzzzyzwwzzzzwwzzzz'"
      ]
     },
     "execution_count": 24,
     "metadata": {},
     "output_type": "execute_result"
    }
   ],
   "source": [
    "\n",
    "def removeDuplicates(s):\n",
    "    if len(s) == 0 or len(s) == 1:\n",
    "        return s\n",
    "    \n",
    "    if s[0] == s[1]:\n",
    "        r = removeDuplicates(s[2:])\n",
    "        return r\n",
    "    else:\n",
    "        r = removeDuplicates(s[1:])\n",
    "        return s+r\n",
    "\n",
    "removeDuplicates(\"xxxyyyzwwzzz\")"
   ]
  },
  {
   "cell_type": "code",
   "execution_count": null,
   "metadata": {},
   "outputs": [],
   "source": []
  }
 ],
 "metadata": {
  "kernelspec": {
   "display_name": "Python 3",
   "language": "python",
   "name": "python3"
  },
  "language_info": {
   "codemirror_mode": {
    "name": "ipython",
    "version": 3
   },
   "file_extension": ".py",
   "mimetype": "text/x-python",
   "name": "python",
   "nbconvert_exporter": "python",
   "pygments_lexer": "ipython3",
   "version": "3.12.4"
  },
  "orig_nbformat": 4
 },
 "nbformat": 4,
 "nbformat_minor": 2
}

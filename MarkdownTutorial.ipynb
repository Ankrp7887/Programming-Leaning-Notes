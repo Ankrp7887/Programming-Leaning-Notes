{
 "cells": [
  {
   "attachments": {},
   "cell_type": "markdown",
   "metadata": {},
   "source": [
    "# This is a level 1 heading\n",
    "## This is a level 2 heading\n",
    "### This is a level 3 heading\n",
    "#### This is a level 4 heading\n",
    "##### This is a level 5 heading\n",
    "###### This is a level 6 heading"
   ]
  },
  {
   "attachments": {},
   "cell_type": "markdown",
   "metadata": {},
   "source": [
    "\n",
    "This is some plain text that forms a paragraph. Add emphasis via **bold** and __bold__, or *italic* and _italic_.\n",
    "\n",
    "Paragraphs must be separated by an empty line. \n",
    "\n",
    "\\*this text is surrounded by literal asterisks\\*"
   ]
  },
  {
   "attachments": {},
   "cell_type": "markdown",
   "metadata": {},
   "source": [
    "* Sometimes we want to include lists. \n",
    "* Which can be bulleted using asterisks. \n",
    "\n",
    "1. Lists can also be numbered. \n",
    "2. If we want an ordered list."
   ]
  },
  {
   "attachments": {},
   "cell_type": "markdown",
   "metadata": {},
   "source": [
    "[It is possible to include hyperlinks](https://www.example.com)\n",
    "\n",
    "This is [an example](http://example.com/ \"Title\") inline link.\n",
    "\n",
    "[This link](http://example.net/) has no title attribute."
   ]
  },
  {
   "attachments": {},
   "cell_type": "markdown",
   "metadata": {},
   "source": [
    "Inline code uses single backticks: \n",
    "code blocks use triple backticks: \n",
    "```\n",
    "print(\"Hello World!\")\n",
    "``` \n",
    "Or can be indented by 4 spaces:\n",
    "\n",
    "    print(\"Hello World!\")"
   ]
  },
  {
   "attachments": {},
   "cell_type": "markdown",
   "metadata": {},
   "source": [
    "And finally, adding images is easy: \n",
    "\n",
    "![Alt text](https://encrypted-tbn0.gstatic.com/images?q=tbn:ANd9GcTHZAq08u4YaR0Jsu2CgeptdxC74y-9QEeFYEAb6YHP&s)\n",
    "\n",
    "![Alt text](\\redragon.jpg)"
   ]
  },
  {
   "attachments": {},
   "cell_type": "markdown",
   "metadata": {},
   "source": []
  }
 ],
 "metadata": {
  "kernelspec": {
   "display_name": "Python 3",
   "language": "python",
   "name": "python3"
  },
  "language_info": {
   "codemirror_mode": {
    "name": "ipython",
    "version": 3
   },
   "file_extension": ".py",
   "mimetype": "text/x-python",
   "name": "python",
   "nbconvert_exporter": "python",
   "pygments_lexer": "ipython3",
   "version": "3.11.4"
  },
  "orig_nbformat": 4
 },
 "nbformat": 4,
 "nbformat_minor": 2
}

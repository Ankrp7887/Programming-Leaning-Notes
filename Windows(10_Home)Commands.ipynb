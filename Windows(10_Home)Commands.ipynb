{
 "cells": [
  {
   "cell_type": "markdown",
   "metadata": {},
   "source": [
    "## ShortCuts\n",
    "<pre>\n",
    "\n",
    "win + I                         > Open Setting\n",
    "F11                             > Toggle between full screen and exit full screen\n",
    "F6                              > Cycle through browser elements(search bar/tabs/web page/Favorites bar/Certain popup dialogs)\n",
    "F7                              > Toggle caret browsing(navigate with only using keyboard) on or off\n",
    "Tab                             > Move focus to the next item\n",
    "Shift + Tab                     > Move focus to the previous item\n",
    "Alt + Left arrow                > Go back\n",
    "Alt + Right arrow               > Go forward\n",
    "win + v                         > clipboard + emoji + symbols\n",
    "</pre>\n",
    "#### Browser-->\n",
    "<pre>\n",
    "Ctrl + T                        > Open a new tab and switch to it\n",
    "Ctrl + Shift + T                > Reopen the last closed tab, and switch to it\n",
    "Ctrl + Tab                      > Switch to the next tab\n",
    "Ctrl + 1,2,3...                 > Switch to a specific tab\n",
    "Ctrl + Shift + Tab              > Switch to the previous tab\n",
    "</pre>\n",
    "#### VScode-->\n",
    "<pre>\n",
    "Alt + up/down                   > Move up/down current line\n",
    "Alt + Shift + up/down           > Move & Copy current line\n",
    "Ctrl + D                        > Find all Matches\n",
    "Ctrl + D,D,D..                  > Find all Matches and edit multiple\n",
    "Ctrl + /                        > Toggle Comment \n",
    "</pre>"
   ]
  },
  {
   "cell_type": "markdown",
   "metadata": {},
   "source": []
  }
 ],
 "metadata": {
  "kernelspec": {
   "display_name": "Python 3",
   "language": "python",
   "name": "python3"
  },
  "language_info": {
   "codemirror_mode": {
    "name": "ipython",
    "version": 3
   },
   "file_extension": ".py",
   "mimetype": "text/x-python",
   "name": "python",
   "nbconvert_exporter": "python",
   "pygments_lexer": "ipython3",
   "version": "3.11.4"
  },
  "orig_nbformat": 4
 },
 "nbformat": 4,
 "nbformat_minor": 2
}

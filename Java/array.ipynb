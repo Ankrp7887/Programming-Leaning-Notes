{
 "cells": [
  {
   "cell_type": "markdown",
   "metadata": {},
   "source": [
    "# **Array**\n",
    "\n",
    "* Array is **non-primitive** data type and behaves like a **object**.\n",
    "* All array elements are of **similar data type**.\n",
    "* **Un-initialized** array items values becomes default value of primitive type. *ie. 0 for int, false for boolean, etc.*\n",
    "* In case of **non-primitive**(objects) array elements, **references**(object memory adresses) are stored rather than actual value which is in case of primitive array elements.\n",
    "* address of i'th item = (address of 1st item) + i * (size of one item)\n",
    "\n",
    "#### Types \n",
    "1. **Dimensional**\n",
    "    1. One Dimensional\n",
    "    2. Multi-dimensional\n",
    "2. **Sized**\n",
    "    1. Fixed size\n",
    "    2. Dynamic size {arraylist, vector}\n",
    "\n",
    "#### Advantages\n",
    "* Random access - using index\n",
    "* Cache friendly - prefetching of the nearest items as array items are contiguous location\n",
    "\n",
    "#### Disadvantages\n",
    "* Slow insertion and deletion\n",
    "* Slow searching for unsorted array\n"
   ]
  },
  {
   "cell_type": "code",
   "execution_count": 33,
   "metadata": {},
   "outputs": [],
   "source": [
    "int[] a = {1,2,3,4,5,6};\n",
    "// int a[2] = {1,2};      // invalid\n",
    "int b[] = new int[6];               // without initialization, all values are set default to zero\n",
    "int c[] = new int[6];   c[0] = 1; c[1] = 2; c[2] = 3; c[3] = 4; c[4] = 5; c[5] = 6;\n",
    "int d[], e;                         // only d is array and e is integer variable\n",
    "int[] f, g;     int []h, j;         // all f, g, h and j are array variables"
   ]
  },
  {
   "cell_type": "code",
   "execution_count": 34,
   "metadata": {},
   "outputs": [
    {
     "name": "stdout",
     "output_type": "stream",
     "text": [
      "1 2 3 4 5 6 "
     ]
    },
    {
     "name": "stdout",
     "output_type": "stream",
     "text": [
      "\n",
      "0 0 0 0 0 0 "
     ]
    }
   ],
   "source": [
    "for(int i=0; i<a.length; i++) {\n",
    "    System.out.print(a[i] + \" \");\n",
    "}\n",
    "System.out.println();\n",
    "for(int i=0; i<b.length; i++) {\n",
    "    System.out.print(b[i] + \" \");\n",
    "}"
   ]
  },
  {
   "cell_type": "code",
   "execution_count": 35,
   "metadata": {},
   "outputs": [
    {
     "name": "stdout",
     "output_type": "stream",
     "text": [
      "1 2 3 \n",
      "4 5 6 \n",
      "7 8 9 \n"
     ]
    }
   ],
   "source": [
    "// int arr2d[2][]; // invalid\n",
    "// int arr2d[3][2]; // invalid\n",
    "int arr[][] = new int[2][3];      // valid\n",
    "\n",
    "int arr2d[][] = {{1,2,3}, \n",
    "                 {4,5,6},\n",
    "                 {7,8,9}};\n",
    "for(int i=0; i<arr2d.length; i++){\n",
    "    for(int j=0; j<arr2d[i].length; j++){\n",
    "        System.out.print(arr2d[i][j] + \" \");\n",
    "    }\n",
    "    System.out.println();\n",
    "}"
   ]
  },
  {
   "cell_type": "code",
   "execution_count": 8,
   "metadata": {},
   "outputs": [
    {
     "name": "stdout",
     "output_type": "stream",
     "text": [
      "1 \n",
      "2 2 \n",
      "3 3 3 \n",
      "4 4 4 4 \n",
      "5 5 5 5 5 \n"
     ]
    }
   ],
   "source": [
    "int numPattern[][] = new int[5][];\n",
    "for(int i=0; i<numPattern.length; i++){\n",
    "    numPattern[i] = new int[i+1];\n",
    "    for(int j=0; j<numPattern[i].length; j++){\n",
    "        numPattern[i][j] = i;\n",
    "        System.out.print(numPattern[i][j] + 1 + \" \");\n",
    "    }\n",
    "    System.out.println();\n",
    "}"
   ]
  },
  {
   "cell_type": "code",
   "execution_count": null,
   "metadata": {},
   "outputs": [],
   "source": []
  },
  {
   "cell_type": "code",
   "execution_count": null,
   "metadata": {},
   "outputs": [],
   "source": []
  }
 ],
 "metadata": {
  "kernelspec": {
   "display_name": "Java 1.3.0",
   "language": "java",
   "name": "java"
  },
  "language_info": {
   "codemirror_mode": "java",
   "file_extension": ".jshell",
   "mimetype": "text/x-java-source",
   "name": "java",
   "pygments_lexer": "java",
   "version": "17.0.7+8-LTS-224"
  }
 },
 "nbformat": 4,
 "nbformat_minor": 2
}

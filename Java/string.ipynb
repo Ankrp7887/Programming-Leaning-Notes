{
 "cells": [
  {
   "cell_type": "markdown",
   "metadata": {},
   "source": [
    "String\n",
    "\n",
    "Java uses UTF-16 encoding to store characters"
   ]
  },
  {
   "cell_type": "code",
   "execution_count": 1,
   "metadata": {},
   "outputs": [],
   "source": [
    "// character array\n",
    "char arr[] = {'A', 'n', 'k', 'i', 't'};\n",
    "\n",
    "//String class - immutable and multi-thread safe as String is immutable\n",
    "    // when methods like tolower(), +(concatenation), etc. are called they returns new String object, as String is immutable\n",
    "String str = \"Ankit\";\n",
    "\n",
    "//StringBuffer class - mutable and multi-threaded safe\n",
    "StringBuffer str = new StringBuffer(\"Ankit\");\n",
    "\n",
    "//StringBuilder class - mutable and not multi-thread safe. More efficient than StringBuffer which supports multi-threading\n",
    "StringBuilder str = new StringBuilder(\"Ankit\");"
   ]
  },
  {
   "cell_type": "code",
   "execution_count": 2,
   "metadata": {},
   "outputs": [
    {
     "name": "stdout",
     "output_type": "stream",
     "text": [
      "k\n",
      "Anxit\n"
     ]
    }
   ],
   "source": [
    "// String are immutable, but can be modified by converting string into array of characters\n",
    "String name = \"Ankit\";\n",
    "char arr[] = new char[10];\n",
    "\n",
    "arr = name.toCharArray();       // converting string into array of characters\n",
    "System.out.println(arr[2]);\n",
    "arr[2] = 'x';\n",
    "System.out.println(arr);"
   ]
  },
  {
   "cell_type": "code",
   "execution_count": 4,
   "metadata": {},
   "outputs": [
    {
     "name": "stdout",
     "output_type": "stream",
     "text": [
      "[C@1d48323a\n"
     ]
    }
   ],
   "source": [
    "char arr[] = {'A', 'B', 'C', 'D', 'E', 'F'};\n",
    "String name = arr.toString();          // converting array of characters into string\n",
    "System.out.println(name);"
   ]
  },
  {
   "cell_type": "code",
   "execution_count": 12,
   "metadata": {},
   "outputs": [
    {
     "name": "stdout",
     "output_type": "stream",
     "text": [
      "5\n",
      "CharAt 0 - A\n",
      "kit\n",
      "An\n",
      "Same reference equals - true\n",
      "Diffrent reference equals - false\n",
      "Using equals method - true\n",
      "Contains - true\n",
      "Index of - 2\n",
      "-25\n",
      "0\n",
      "25\n"
     ]
    }
   ],
   "source": [
    "// String Methods\n",
    "String str = \"Ankit\";\n",
    "String str1 = \"Ankit\";\n",
    "\n",
    "System.out.println(str.length());\n",
    "\n",
    "System.out.println(\"CharAt 0 - \" + str.charAt(0));  \n",
    "// System.out.println(str.charAt(-1)); Gives error - Index -1 out of bounds for length\n",
    "\n",
    "System.out.println(str.substring(2));\n",
    "System.out.println(str.substring(0, 2));       // [start_index, end_index)\n",
    "// System.out.println(str.substring(-3, -1));  Gives error - Range [-3, -1) out of bounds for length\n",
    "\n",
    "System.out.println(\"Same reference equals - \" + (str == str1)); // logically this gives false because str and str1 have references(memory location, not value), \n",
    "                                    // but giving true as internally str and str1 are refering to the same reference(memory location)\n",
    "String str2 = new String(\"Ankit\");\n",
    "System.out.println(\"Diffrent reference equals - \" + (str == str2));  // will return false as str2 will refer diffrent memory location than str or str1\n",
    "System.out.println(\"Using equals method - \" + (str.equals(str2)));  // will return true as values are compaired\n",
    "\n",
    "String str3 = \"ki\";\n",
    "System.out.println(\"Contains - \" + str.contains(str3));\n",
    "int startForm = 2;\n",
    "System.out.println(\"Index of - \" + str.indexOf(str3, startForm));        // returns -1 or index of first occurence from 2nd index of str\n",
    "System.out.println(\"Index of - \" + str.lastIndexOf(str3, startForm));    // returns -1 or index of last occurence from 2nd index of str\n",
    "\n",
    "String str = \"Ankit\";\n",
    "String str1 = \"Znkit\";\n",
    "System.out.println(str.compareTo(str1));        // returns -25      difference between A and Z\n",
    "System.out.println(str.compareTo(str2));        // returns 0        as both values are same \n",
    "System.out.println(str1.compareTo(str));        // returns 25       \n",
    "\n",
    " "
   ]
  },
  {
   "cell_type": "code",
   "execution_count": null,
   "metadata": {},
   "outputs": [],
   "source": []
  },
  {
   "cell_type": "code",
   "execution_count": null,
   "metadata": {},
   "outputs": [],
   "source": []
  }
 ],
 "metadata": {
  "kernelspec": {
   "display_name": "Java 1.3.0",
   "language": "java",
   "name": "java"
  },
  "language_info": {
   "codemirror_mode": "java",
   "file_extension": ".jshell",
   "mimetype": "text/x-java-source",
   "name": "java",
   "pygments_lexer": "java",
   "version": "21.0.2+13-LTS-58"
  }
 },
 "nbformat": 4,
 "nbformat_minor": 2
}

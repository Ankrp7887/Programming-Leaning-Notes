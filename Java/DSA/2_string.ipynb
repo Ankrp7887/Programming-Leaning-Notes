{
 "cells": [
  {
   "cell_type": "markdown",
   "metadata": {},
   "source": [
    "String\n",
    "\n",
    "UTF-16 encoding to store characters"
   ]
  },
  {
   "cell_type": "code",
   "execution_count": 3,
   "metadata": {},
   "outputs": [],
   "source": [
    "// character array\n",
    "char arr[] = {'A', 'n', 'k', 'i', 't'};\n",
    "\n",
    "//String class - immutable and multi-thread safe as String is immutable\n",
    "    // when methods like tolower(), +(concatenation), etc. are called they returns new String object, as String is immutable\n",
    "String str = \"Ankit\";\n",
    "\n",
    "//StringBuffer class - mutable and multi-threaded safe\n",
    "StringBuffer str = new StringBuffer(\"Ankit\");\n",
    "\n",
    "//StringBuilder class - mutable and not multi-thread safe. More efficient than StringBuffer which supports multi-threading\n",
    "StringBuilder str = new StringBuilder(\"Ankit\");"
   ]
  },
  {
   "cell_type": "code",
   "execution_count": 2,
   "metadata": {},
   "outputs": [
    {
     "name": "stdout",
     "output_type": "stream",
     "text": [
      "k\n",
      "Anxit\n"
     ]
    }
   ],
   "source": [
    "// String are immutable, but can be modified by converting string into array of characters\n",
    "String name = \"Ankit\";\n",
    "char arr[] = new char[10];\n",
    "\n",
    "arr = name.toCharArray();       // converting string into array of characters\n",
    "System.out.println(arr[2]);\n",
    "arr[2] = 'x';\n",
    "System.out.println(arr);\n",
    "\n",
    "\n",
    "\n"
   ]
  },
  {
   "cell_type": "code",
   "execution_count": 1,
   "metadata": {},
   "outputs": [
    {
     "name": "stdout",
     "output_type": "stream",
     "text": [
      "[C@a29210c\n"
     ]
    }
   ],
   "source": [
    "char arr[] = {'A', 'B', 'C', 'D', 'E', 'F'};\n",
    "String name = arr.toString();          // converting array of characters into string\n",
    "System.out.println(name);"
   ]
  },
  {
   "cell_type": "code",
   "execution_count": null,
   "metadata": {},
   "outputs": [],
   "source": [
    "String indexSlicing = "
   ]
  }
 ],
 "metadata": {
  "kernelspec": {
   "display_name": "Java 1.3.0",
   "language": "java",
   "name": "java"
  },
  "language_info": {
   "codemirror_mode": "java",
   "file_extension": ".jshell",
   "mimetype": "text/x-java-source",
   "name": "java",
   "pygments_lexer": "java",
   "version": "17.0.7+8-LTS-224"
  }
 },
 "nbformat": 4,
 "nbformat_minor": 2
}
